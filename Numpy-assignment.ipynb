{
 "cells": [
  {
   "cell_type": "code",
   "execution_count": 2,
   "id": "a66af6d6-fe98-4106-82bf-2f4dd1999c41",
   "metadata": {},
   "outputs": [],
   "source": [
    "import numpy as np\n",
    "# 4,8,9"
   ]
  },
  {
   "cell_type": "code",
   "execution_count": 25,
   "id": "e9cadb70-bc7e-4da9-866d-a2089c4bd7f4",
   "metadata": {},
   "outputs": [
    {
     "name": "stdout",
     "output_type": "stream",
     "text": [
      "[[1. 0. 0.]\n",
      " [0. 1. 0.]\n",
      " [0. 0. 1.]]\n"
     ]
    }
   ],
   "source": [
    " # 1. How to Creating a 3x3 Identity Matrix with Float Data Type? \n",
    "\n",
    "identity_matrix1 = np.identity(3, dtype=float)\n",
    "print(identity_matrix)"
   ]
  },
  {
   "cell_type": "code",
   "execution_count": 19,
   "id": "e88b19a6-d1b6-4ec4-8877-5ec2f2ba7c08",
   "metadata": {},
   "outputs": [
    {
     "name": "stdout",
     "output_type": "stream",
     "text": [
      "[0.4490909  0.98812729 0.63300463 0.5335727  0.51288844]\n"
     ]
    }
   ],
   "source": [
    "# 2. Create a 1D Array with Random Values between 0 and 1. \n",
    "array = np.random.rand(5)\n",
    "array_2 = np.array(array)\n",
    "print(array_2)"
   ]
  },
  {
   "cell_type": "code",
   "execution_count": 10,
   "id": "e8d734c3-7882-4041-98bf-9a427e4ff6d9",
   "metadata": {},
   "outputs": [
    {
     "name": "stdout",
     "output_type": "stream",
     "text": [
      "[[31 18 39 10 36]\n",
      " [39 38 20 12 11]\n",
      " [19 41 36 33 25]\n",
      " [25 39 18 30 34]]\n"
     ]
    }
   ],
   "source": [
    "# 3. Create a 2D Array with Random Integer Values. \n",
    "\n",
    "rows, cols = 4, 5  \n",
    "low, high = 10, 50  \n",
    "array_3 = np.random.randint(low, high, size=(rows, cols))\n",
    "\n",
    "print(array_3)\n"
   ]
  },
  {
   "cell_type": "code",
   "execution_count": null,
   "id": "a817d5f4-7851-4105-97e1-ee00f7290f6e",
   "metadata": {},
   "outputs": [],
   "source": [
    "# 4. Creating an Array Using a Custom Function. "
   ]
  },
  {
   "cell_type": "code",
   "execution_count": 11,
   "id": "18d88a30-5570-401b-928d-fc796199f3b1",
   "metadata": {},
   "outputs": [
    {
     "name": "stdout",
     "output_type": "stream",
     "text": [
      "[ 1  2  3  4  5  6  7  8  9 10 11 12]\n"
     ]
    }
   ],
   "source": [
    "# 5. Reshaping a 1D Array into a 2D Array\n",
    "array_1D = np.array([1,2,3,4,5,6,7,8,9,10,11,12])\n",
    "print(array_1D)"
   ]
  },
  {
   "cell_type": "code",
   "execution_count": 14,
   "id": "01ac31de-3b10-42cd-9188-52f00143b978",
   "metadata": {},
   "outputs": [
    {
     "name": "stdout",
     "output_type": "stream",
     "text": [
      "[[ 1  2  3]\n",
      " [ 4  5  6]\n",
      " [ 7  8  9]\n",
      " [10 11 12]]\n"
     ]
    }
   ],
   "source": [
    "array_5 = array_1D.reshape(4,3)\n",
    "print(array_5)"
   ]
  },
  {
   "cell_type": "code",
   "execution_count": 17,
   "id": "f029a115-8ffd-47ae-a1cd-56dd2ffbcf42",
   "metadata": {},
   "outputs": [
    {
     "name": "stdout",
     "output_type": "stream",
     "text": [
      "[[1. 1. 1.]\n",
      " [1. 1. 1.]\n",
      " [1. 1. 1.]]\n"
     ]
    }
   ],
   "source": [
    "# 6.How to Creating a 3x3 Array of Ones?\n",
    "array_6 = np.ones((3,3), dtype = float)\n",
    "print(array_6)"
   ]
  },
  {
   "cell_type": "code",
   "execution_count": 21,
   "id": "d168ec96-b4aa-47f2-a33d-95e60c41bc56",
   "metadata": {},
   "outputs": [
    {
     "name": "stdout",
     "output_type": "stream",
     "text": [
      "[2 4]\n"
     ]
    }
   ],
   "source": [
    "# 7. How to get the common items between two pythons NumPy?\n",
    "a = np. array ([1,2,3,2,3,4,3,4,5,6]) \n",
    "b = np. array ([7,2,10,2,7,4,9,4,9,8])\n",
    "array_7 = np.intersect1d(a, b)\n",
    "print (array_7)"
   ]
  },
  {
   "cell_type": "code",
   "execution_count": 27,
   "id": "503a762b-355d-4a24-b8c4-13df9af2f01b",
   "metadata": {},
   "outputs": [
    {
     "name": "stdout",
     "output_type": "stream",
     "text": [
      "[-4 -4 -4 -4 -4]\n"
     ]
    }
   ],
   "source": [
    "# 8. From array a remove all items present in array b\n",
    "a = np. array ([1,2,3,4,5]) \n",
    "b = np. array ([5,6,7,8,9]) \n",
    "array_8 = a-b\n",
    "print(array_8)"
   ]
  },
  {
   "cell_type": "code",
   "execution_count": null,
   "id": "67971eba-fb8d-4609-b346-354c30cfa8c5",
   "metadata": {},
   "outputs": [],
   "source": [
    "# 9. Limit the number of items printed in python NumPy array a to a maximum of 6 elements."
   ]
  },
  {
   "cell_type": "code",
   "execution_count": null,
   "id": "012f766b-4db5-494e-938b-9006fd761bc8",
   "metadata": {},
   "outputs": [],
   "source": [
    "# 10. Drop all nan values from a 1D NumPy"
   ]
  },
  {
   "cell_type": "code",
   "execution_count": 29,
   "id": "a05981de-c47b-4d6e-a54c-5e8c89afe627",
   "metadata": {},
   "outputs": [
    {
     "name": "stdout",
     "output_type": "stream",
     "text": [
      "[ 1  2  3  4  5  6  7  8  9 10 11 12 13 14 15 16 17 18 19 20]\n"
     ]
    }
   ],
   "source": [
    "#11. Question: Create a 1D NumPy array of the first 20 natural numbers and a 2D NumPy array of shape (4, 5) with values ranging from 1 to 20. \n",
    "array_11 = np.arange(1,21)\n",
    "print(array_11)"
   ]
  },
  {
   "cell_type": "code",
   "execution_count": 31,
   "id": "3c22c8ee-17fc-4d9b-9dc2-1cc6e7ca8eec",
   "metadata": {},
   "outputs": [
    {
     "name": "stdout",
     "output_type": "stream",
     "text": [
      "[[ 1  2  3  4  5]\n",
      " [ 6  7  8  9 10]\n",
      " [11 12 13 14 15]\n",
      " [16 17 18 19 20]]\n"
     ]
    }
   ],
   "source": [
    "array_11_reshape = array_11.reshape(4,5)\n",
    "print(array_11_reshape)"
   ]
  },
  {
   "cell_type": "code",
   "execution_count": 5,
   "id": "fe4444aa-5f0c-490a-bd80-63a3b44b216c",
   "metadata": {},
   "outputs": [
    {
     "name": "stdout",
     "output_type": "stream",
     "text": [
      "[[[ 1  2  3  4]\n",
      "  [ 5  6  7  8]\n",
      "  [ 9 10 11 12]]\n",
      "\n",
      " [[13 14 15 16]\n",
      "  [17 18 19 20]\n",
      "  [21 22 23 24]]]\n",
      "(2, 3, 4)\n",
      "24\n",
      "3\n",
      "int64\n"
     ]
    }
   ],
   "source": [
    "# 12. Question: Given a 3D NumPy array of shape (2, 3, 4), find its shape, size, number of dimensions, and data type. Change its data type to float64 \n",
    "# and verify the change. \n",
    "array_12 = np.array([[[1,2,3,4],[5,6,7,8],[9,10,11,12]],[[13,14,15,16],[17,18,19,20],[21,22,23,24]]])\n",
    "print(array_12)\n",
    "print(array_12.shape)\n",
    "print(array_12.size)\n",
    "print(array_12.ndim)\n",
    "print(array_12.dtype)"
   ]
  },
  {
   "cell_type": "code",
   "execution_count": 8,
   "id": "fb7d24aa-2c9f-444e-820c-6208f3d85763",
   "metadata": {},
   "outputs": [
    {
     "name": "stdout",
     "output_type": "stream",
     "text": [
      "[ 1  2  3  4  5  6  7  8  9 10 11 12]\n"
     ]
    }
   ],
   "source": [
    "# 13. Question: Reshape a 1D array of 12 elements into a 3x4 2D array and then flatten it back into a 1D array using ravel (). Verify that the flattened \n",
    "# array matches the original. \n",
    "array_13 = np.array([1,2,3,4,5,6,7,8,9,10,11,12])\n",
    "print(array)"
   ]
  },
  {
   "cell_type": "code",
   "execution_count": 9,
   "id": "437a3735-3160-4ddc-ba8c-fb0b27d3a3de",
   "metadata": {},
   "outputs": [
    {
     "name": "stdout",
     "output_type": "stream",
     "text": [
      "[[ 1  2  3  4]\n",
      " [ 5  6  7  8]\n",
      " [ 9 10 11 12]]\n"
     ]
    }
   ],
   "source": [
    "array_13_reshape = array_13.reshape(3,4)\n",
    "print(array_13_reshape)"
   ]
  },
  {
   "cell_type": "code",
   "execution_count": 10,
   "id": "f58a9889-54ed-47d7-b2f2-01b8e71cd330",
   "metadata": {},
   "outputs": [
    {
     "name": "stdout",
     "output_type": "stream",
     "text": [
      "[ 1  2  3  4  5  6  7  8  9 10 11 12]\n"
     ]
    }
   ],
   "source": [
    "array_13_flatten = array_13_reshape.ravel()\n",
    "print(array_13_flatten)"
   ]
  },
  {
   "cell_type": "code",
   "execution_count": 14,
   "id": "69341c00-2517-41b9-8459-73ef8975c6fd",
   "metadata": {},
   "outputs": [
    {
     "name": "stdout",
     "output_type": "stream",
     "text": [
      "[1 2 3]\n",
      "[4 5 6]\n",
      "[0 0 0]\n",
      "addition :- [5 7 9]\n",
      "subtraction :- [-3 -3 -3]\n",
      "multiplication :- [ 4 10 18]\n",
      "division :- [0.25 0.4  0.5 ]\n",
      "zero division a :- [0. 0. 0.]\n",
      "zero division b :- [0. 0. 0.]\n"
     ]
    }
   ],
   "source": [
    "# 14. Question: Given two arrays, a = np. array ([1, 2, 3]) and b = np. array ([4,5, 6]), perform element-wise addition, subtraction, multiplication, \n",
    "# and division. Explain the behavior when dividing by zero. \n",
    "\n",
    "a = np.array([1,2,3])\n",
    "b = np.array([4,5,6])\n",
    "c = np.array([0,0,0])\n",
    "\n",
    "print(a)\n",
    "print(b)\n",
    "print(c)\n",
    "\n",
    "addition = a+b\n",
    "subtraction = a-b\n",
    "multiplication = a*b\n",
    "division = a/b\n",
    "zero_division_a = c/a\n",
    "zero_division_b = c/b\n",
    "\n",
    "print(\"addition :-\" ,addition)\n",
    "print(\"subtraction :-\" ,subtraction)\n",
    "print(\"multiplication :-\" ,multiplication)\n",
    "print(\"division :-\" ,division)\n",
    "print(\"zero division a :-\" ,zero_division_a)\n",
    "print(\"zero division b :-\" , zero_division_b)"
   ]
  },
  {
   "cell_type": "code",
   "execution_count": 10,
   "id": "c44cb3f0-c107-4792-a5b0-2797738ef8cb",
   "metadata": {},
   "outputs": [
    {
     "name": "stdout",
     "output_type": "stream",
     "text": [
      "[[1]\n",
      " [2]\n",
      " [3]]\n",
      "[10 20 30]\n",
      "[[11 21 31]\n",
      " [12 22 32]\n",
      " [13 23 33]]\n"
     ]
    }
   ],
   "source": [
    "# 15. Question: Create a 2D array of shape (3, 1) and a 1D array of length 3. Perform element-wise addition using broadcasting. Explain how broadcasting \n",
    "# rules apply in this scenario.\n",
    "array_2d = np.array([[1],[2],[3]])\n",
    "array_1d = np.array([10,20,30])\n",
    "\n",
    "print(array_2d)\n",
    "print(array_1d)\n",
    "\n",
    "array_15 = array_1d + array_2d\n",
    "print(array_15)"
   ]
  },
  {
   "cell_type": "code",
   "execution_count": null,
   "id": "619cced7-4d27-4641-8cbb-b97f7a9bda86",
   "metadata": {},
   "outputs": [],
   "source": [
    "# 16. Question: Generate a random 2D array of integers between 0 and 10. Use conditional operators to create a Boolean mask identifying elements \n",
    "# greater than 5. Replace all elements greater than 5 with the value 5."
   ]
  },
  {
   "cell_type": "code",
   "execution_count": 19,
   "id": "482aa838-a213-4099-a5c1-69fb475910d1",
   "metadata": {},
   "outputs": [
    {
     "name": "stdout",
     "output_type": "stream",
     "text": [
      "array :- [[3 4 4 4]\n",
      " [8 8 2 0]\n",
      " [3 0 8 4]\n",
      " [5 5 8 1]]\n",
      "second row :- [8 8 2 0]\n",
      "last column :- [4 0 4 1]\n",
      "subarray :- [[3 4]\n",
      " [8 8]]\n"
     ]
    }
   ],
   "source": [
    "# 17. Question: Given a 4x4 array of random integers, use indexing and slicing to extract: \n",
    "# o The entire second row \n",
    "# o The last column \n",
    "# o The subarray consisting of the first two rows and first two columns\n",
    "\n",
    "array = np.random.randint(0, 10, size=(4, 4))\n",
    "print(\"array :-\",array)\n",
    "\n",
    "second_row = array[1, :] \n",
    "print(\"second row :-\", second_row)\n",
    "\n",
    "last_column = array[:, -1]\n",
    "print(\"last column :-\", last_column)\n",
    "\n",
    "subarray = array[:2, :2]  \n",
    "print(\"subarray :-\", subarray)"
   ]
  },
  {
   "cell_type": "code",
   "execution_count": null,
   "id": "84ec3206-beec-41b8-b1dc-d23cb1f239b8",
   "metadata": {},
   "outputs": [],
   "source": [
    "# 18. Question: Describe a practical example where NumPy can be used in EDA, AI, ML, and DL, and implement a NumPy solution for a simple task in each \n",
    "# area. \n",
    "\n",
    "# 1. Exploratory Data Analysis (EDA)\n",
    "# Analyzing a dataset to compute statistical metrics like mean, median, standard deviation, or identifying missing values.\n",
    "\n",
    "# 2. Artificial Intelligence (AI)\n",
    "# AI applications often involve vector and matrix operations for tasks like natural language processing or search optimization.\n",
    "\n",
    "# 3. Machine Learning (ML)\n",
    "# Preprocessing data for ML models, such as normalizing features or encoding categorical variables.\n",
    "\n",
    "# 4. Deep Learning (DL)\n",
    "# NumPy is often used for initializing weights, computing activations, or data preparation before feeding it to DL frameworks like TensorFlow or PyTorch."
   ]
  },
  {
   "cell_type": "code",
   "execution_count": 33,
   "id": "66a3d453-3f38-42de-89c1-bc3da7515633",
   "metadata": {},
   "outputs": [
    {
     "name": "stdout",
     "output_type": "stream",
     "text": [
      "array :- [ 1  2  3  4  5  6  7  8  9 10 11 12 13 14 15 16 17 18 19 20 21 22 23 24\n",
      " 25 26 27]\n",
      "arry 20 :- [[[ 1  2  3]\n",
      "  [ 4  5  6]\n",
      "  [ 7  8  9]]\n",
      "\n",
      " [[10 11 12]\n",
      "  [13 14 15]\n",
      "  [16 17 18]]\n",
      "\n",
      " [[19 20 21]\n",
      "  [22 23 24]\n",
      "  [25 26 27]]]\n",
      "flatten array :- [ 1  2  3  4  5  6  7  8  9 10 11 12 13 14 15 16 17 18 19 20 21 22 23 24\n",
      " 25 26 27]\n",
      "compare array :- True\n"
     ]
    }
   ],
   "source": [
    "# 20. Question: Create a 1D array of 27 elements and reshape it into a 3x3x3 3D array. Flatten it back into a 1D array and compare the flattened array \n",
    "# with the original.\n",
    "\n",
    "array = np.arange(1,28)\n",
    "print(\"array :-\", array)\n",
    "\n",
    "array_20 = array.reshape(3,3,3)\n",
    "print(\"arry 20 :-\", array_20)\n",
    "\n",
    "flatten_20 = array_20.flatten()\n",
    "print(\"flatten array :-\", flatten_20)\n",
    "\n",
    "compare_array = np.array_equal(array, flatten_20)\n",
    "print(\"compare array :-\", compare_array)"
   ]
  },
  {
   "cell_type": "code",
   "execution_count": 4,
   "id": "f4ada1f1-bbf5-46ae-b960-ec070d115e1d",
   "metadata": {},
   "outputs": [
    {
     "ename": "ValueError",
     "evalue": "shapes (2,3) and (2,3) not aligned: 3 (dim 1) != 2 (dim 0)",
     "output_type": "error",
     "traceback": [
      "\u001b[1;31m---------------------------------------------------------------------------\u001b[0m",
      "\u001b[1;31mValueError\u001b[0m                                Traceback (most recent call last)",
      "Cell \u001b[1;32mIn[4], line 7\u001b[0m\n\u001b[0;32m      4\u001b[0m array_a \u001b[38;5;241m=\u001b[39m np\u001b[38;5;241m.\u001b[39marray([[\u001b[38;5;241m1\u001b[39m,\u001b[38;5;241m2\u001b[39m,\u001b[38;5;241m3\u001b[39m],[\u001b[38;5;241m4\u001b[39m,\u001b[38;5;241m5\u001b[39m,\u001b[38;5;241m6\u001b[39m]])\n\u001b[0;32m      5\u001b[0m array_b \u001b[38;5;241m=\u001b[39m np\u001b[38;5;241m.\u001b[39marray([[\u001b[38;5;241m7\u001b[39m,\u001b[38;5;241m8\u001b[39m,\u001b[38;5;241m9\u001b[39m],[\u001b[38;5;241m10\u001b[39m,\u001b[38;5;241m11\u001b[39m,\u001b[38;5;241m12\u001b[39m]])\n\u001b[1;32m----> 7\u001b[0m array_dot \u001b[38;5;241m=\u001b[39m np\u001b[38;5;241m.\u001b[39mdot(array_a,array_b)\n",
      "\u001b[1;31mValueError\u001b[0m: shapes (2,3) and (2,3) not aligned: 3 (dim 1) != 2 (dim 0)"
     ]
    }
   ],
   "source": [
    "# 21. Question: Perform matrix multiplication of two 2D arrays using np.dot () and @. Compare the results and performance of both methods using a \n",
    "# large dataset. \n",
    "\n",
    "array_a = np.array([[1,2,3],[4,5,6]])\n",
    "array_b = np.array([[7,8,9],[10,11,12]])\n",
    "\n",
    "array_dot = np.dot(array_a,array_b)"
   ]
  },
  {
   "cell_type": "code",
   "execution_count": 7,
   "id": "c2245016-7010-4140-bd8d-6e16196eee1a",
   "metadata": {},
   "outputs": [
    {
     "name": "stdout",
     "output_type": "stream",
     "text": [
      "[[[11 22 33 44]]\n",
      "\n",
      " [[15 26 37 48]]]\n"
     ]
    }
   ],
   "source": [
    "# 22. Question: Create a 3D array of shape (2, 1, 4) and a 2D array of shape (4, 1). Perform an element-wise operation using broadcasting and explain\n",
    "# the result. Use np. new axis to achieve the same result without broadcasting.\n",
    "\n",
    "array_3d = np.array([[[1, 2, 3, 4]], [[5, 6, 7, 8]]]) \n",
    "array_2d = np.array([[10], [20], [30], [40]]) \n",
    "\n",
    "# element-wise addition with broadcasting\n",
    "result_broadcast = array_3d + array_2d.T\n",
    "print(result_broadcast)"
   ]
  },
  {
   "cell_type": "code",
   "execution_count": 8,
   "id": "089a2242-eba7-48ed-a017-4ef1581419dc",
   "metadata": {},
   "outputs": [
    {
     "name": "stdout",
     "output_type": "stream",
     "text": [
      "Original Array:\n",
      " [[0.1556507  0.22593556 0.86027946 0.90043975]\n",
      " [0.24201498 0.28790473 0.0712609  0.45308529]\n",
      " [0.91919638 0.46957355 0.08160757 0.35210983]\n",
      " [0.4169913  0.50736642 0.15525809 0.78359101]]\n",
      "\n",
      "Boolean Mask (Values < 0.5):\n",
      " [[ True  True False False]\n",
      " [ True  True  True  True]\n",
      " [False  True  True  True]\n",
      " [ True False  True False]]\n",
      "\n",
      "Modified Array:\n",
      " [[0.02422714 0.05104688 0.86027946 0.90043975]\n",
      " [0.05857125 0.08288913 0.00507812 0.20528628]\n",
      " [0.91919638 0.22049932 0.00665979 0.12398133]\n",
      " [0.17388175 0.50736642 0.02410508 0.78359101]]\n"
     ]
    }
   ],
   "source": [
    "# 23. Question: Generate a 2D array of random floats between 0 and 1. Use conditional operators to create a Boolean mask for values less than 0.5. \n",
    "# Replace these values with their squares and leave the rest unchanged.\n",
    "\n",
    "# 2D array of random floats between 0 and 1\n",
    "array_2d = np.random.rand(4, 4) \n",
    "print(\"Original Array:\\n\", array_2d)\n",
    "\n",
    "# Boolean mask for values less than 0.5\n",
    "mask = array_2d < 0.5\n",
    "print(\"\\nBoolean Mask (Values < 0.5):\\n\", mask)\n",
    "\n",
    "# Replace values less than 0.5 with their squares\n",
    "array_2d[mask] = array_2d[mask] ** 2\n",
    "print(\"\\nModified Array:\\n\", array_2d)\n"
   ]
  },
  {
   "cell_type": "code",
   "execution_count": 12,
   "id": "c1afd1cd-1768-4e04-8a6c-a247d25e59ab",
   "metadata": {},
   "outputs": [
    {
     "name": "stdout",
     "output_type": "stream",
     "text": [
      "5D array:- [[ 1  2  3  4  5]\n",
      " [ 6  7  8  9 10]\n",
      " [11 12 13 14 15]\n",
      " [16 17 18 19 20]\n",
      " [21 22 23 24 25]]\n",
      "Diagonal Elements:- [ 1  7 13 19 25]\n",
      "Array after replacing the middle row with zeros:- [[ 1  2  3  4  5]\n",
      " [ 6  7  8  9 10]\n",
      " [ 0  0  0  0  0]\n",
      " [16 17 18 19 20]\n",
      " [21 22 23 24 25]]\n",
      "Array after flipping vertically and horizontally:- [[25 24 23 22 21]\n",
      " [20 19 18 17 16]\n",
      " [ 0  0  0  0  0]\n",
      " [10  9  8  7  6]\n",
      " [ 5  4  3  2  1]]\n"
     ]
    }
   ],
   "source": [
    "# 24. Question: Given a 5x5 array of sequential integers, use slicing to: \n",
    "# o Extract the diagonal elements \n",
    "# o Replace the elements of the middle row with zeros \n",
    "# o Flip the array vertically and horizontally \n",
    "\n",
    "array_5d = np.arange(1, 26).reshape(5, 5)\n",
    "print(\"5D array:-\", array_5d)\n",
    "\n",
    "diagonal_elements = np.diag(array_5d)\n",
    "print(\"Diagonal Elements:-\", diagonal_elements)\n",
    "\n",
    "array_5d[2, :] = 0  \n",
    "print(\"Array after replacing the middle row with zeros:-\", array_5d)\n",
    "\n",
    "flipped_array = array_5d[::-1, ::-1]\n",
    "print(\"Array after flipping vertically and horizontally:-\", flipped_array)"
   ]
  },
  {
   "cell_type": "code",
   "execution_count": 14,
   "id": "2a5cb9ec-fd61-4495-97fe-3fe2c09b2b2a",
   "metadata": {},
   "outputs": [
    {
     "name": "stdout",
     "output_type": "stream",
     "text": [
      "4D Array:- [[[[88 70 46 10 70]\n",
      "   [72 17 54 14 73]\n",
      "   [52 98 22 71 55]\n",
      "   [87 37 71  4  7]]\n",
      "\n",
      "  [[15 36 93 89 37]\n",
      "   [17 27 53 39  7]\n",
      "   [63 92  4 72 79]\n",
      "   [88 80 16 44 68]]\n",
      "\n",
      "  [[65 92 53 36  5]\n",
      "   [66 24 89 81  6]\n",
      "   [35 85 98 26 95]\n",
      "   [84 56 72 23  5]]]\n",
      "\n",
      "\n",
      " [[[13 24 25 86 23]\n",
      "   [52 58 67 77 54]\n",
      "   [91 68 31 92 57]\n",
      "   [32 89  5  5  7]]\n",
      "\n",
      "  [[95 99 11 99 92]\n",
      "   [ 9 67 21 38 82]\n",
      "   [30 66  8 76 57]\n",
      "   [65 57 71 17 75]]\n",
      "\n",
      "  [[ 6 99 64 74 68]\n",
      "   [65  8  4 72 75]\n",
      "   [93 85 68 14 25]\n",
      "   [99 70 71 31 26]]]]\n",
      "Extracted Subarray :- [[[88 70]\n",
      "  [72 17]\n",
      "  [52 98]\n",
      "  [87 37]]\n",
      "\n",
      " [[15 36]\n",
      "  [17 27]\n",
      "  [63 92]\n",
      "  [88 80]]\n",
      "\n",
      " [[65 92]\n",
      "  [66 24]\n",
      "  [35 85]\n",
      "  [84 56]]]\n"
     ]
    }
   ],
   "source": [
    "# 25. Question: Create a 4D array of shape (2, 3, 4, 5) with random integers. Use advanced slicing to extract a subarray and compute the mean along a \n",
    "# specified axis. \n",
    "\n",
    "array_4d = np.random.randint(1, 100, size=(2, 3, 4, 5))\n",
    "print(\"4D Array:-\", array_4d)\n",
    "\n",
    "subarray = array_4d[0, :, :, :2]\n",
    "print(\"Extracted Subarray :-\".format(subarray.shape), subarray)"
   ]
  },
  {
   "cell_type": "code",
   "execution_count": 20,
   "id": "c19f6347-4551-425c-8e1a-a1f124c260e1",
   "metadata": {},
   "outputs": [
    {
     "name": "stdout",
     "output_type": "stream",
     "text": [
      "(10, 20) array:- [[  0   1   2   3   4   5   6   7   8   9  10  11  12  13  14  15  16  17\n",
      "   18  19]\n",
      " [ 20  21  22  23  24  25  26  27  28  29  30  31  32  33  34  35  36  37\n",
      "   38  39]\n",
      " [ 40  41  42  43  44  45  46  47  48  49  50  51  52  53  54  55  56  57\n",
      "   58  59]\n",
      " [ 60  61  62  63  64  65  66  67  68  69  70  71  72  73  74  75  76  77\n",
      "   78  79]\n",
      " [ 80  81  82  83  84  85  86  87  88  89  90  91  92  93  94  95  96  97\n",
      "   98  99]\n",
      " [100 101 102 103 104 105 106 107 108 109 110 111 112 113 114 115 116 117\n",
      "  118 119]\n",
      " [120 121 122 123 124 125 126 127 128 129 130 131 132 133 134 135 136 137\n",
      "  138 139]\n",
      " [140 141 142 143 144 145 146 147 148 149 150 151 152 153 154 155 156 157\n",
      "  158 159]\n",
      " [160 161 162 163 164 165 166 167 168 169 170 171 172 173 174 175 176 177\n",
      "  178 179]\n",
      " [180 181 182 183 184 185 186 187 188 189 190 191 192 193 194 195 196 197\n",
      "  198 199]]\n",
      "(20, 10):-  [[  0   1   2   3   4   5   6   7   8   9]\n",
      " [ 10  11  12  13  14  15  16  17  18  19]\n",
      " [ 20  21  22  23  24  25  26  27  28  29]\n",
      " [ 30  31  32  33  34  35  36  37  38  39]\n",
      " [ 40  41  42  43  44  45  46  47  48  49]\n",
      " [ 50  51  52  53  54  55  56  57  58  59]\n",
      " [ 60  61  62  63  64  65  66  67  68  69]\n",
      " [ 70  71  72  73  74  75  76  77  78  79]\n",
      " [ 80  81  82  83  84  85  86  87  88  89]\n",
      " [ 90  91  92  93  94  95  96  97  98  99]\n",
      " [100 101 102 103 104 105 106 107 108 109]\n",
      " [110 111 112 113 114 115 116 117 118 119]\n",
      " [120 121 122 123 124 125 126 127 128 129]\n",
      " [130 131 132 133 134 135 136 137 138 139]\n",
      " [140 141 142 143 144 145 146 147 148 149]\n",
      " [150 151 152 153 154 155 156 157 158 159]\n",
      " [160 161 162 163 164 165 166 167 168 169]\n",
      " [170 171 172 173 174 175 176 177 178 179]\n",
      " [180 181 182 183 184 185 186 187 188 189]\n",
      " [190 191 192 193 194 195 196 197 198 199]]\n",
      "Reshaped Array Shape (5, 40):- [[  0   1   2   3   4   5   6   7   8   9  10  11  12  13  14  15  16  17\n",
      "   18  19  20  21  22  23  24  25  26  27  28  29  30  31  32  33  34  35\n",
      "   36  37  38  39]\n",
      " [ 40  41  42  43  44  45  46  47  48  49  50  51  52  53  54  55  56  57\n",
      "   58  59  60  61  62  63  64  65  66  67  68  69  70  71  72  73  74  75\n",
      "   76  77  78  79]\n",
      " [ 80  81  82  83  84  85  86  87  88  89  90  91  92  93  94  95  96  97\n",
      "   98  99 100 101 102 103 104 105 106 107 108 109 110 111 112 113 114 115\n",
      "  116 117 118 119]\n",
      " [120 121 122 123 124 125 126 127 128 129 130 131 132 133 134 135 136 137\n",
      "  138 139 140 141 142 143 144 145 146 147 148 149 150 151 152 153 154 155\n",
      "  156 157 158 159]\n",
      " [160 161 162 163 164 165 166 167 168 169 170 171 172 173 174 175 176 177\n",
      "  178 179 180 181 182 183 184 185 186 187 188 189 190 191 192 193 194 195\n",
      "  196 197 198 199]]\n"
     ]
    }
   ],
   "source": [
    "# 26. Question: Given an array of shape (10, 20), reshape it to (20, 10) and (5, 40). Discuss the impact on the array's shape, size, and dimensionality.\n",
    "\n",
    "array_1 = np.arange(200).reshape(10, 20)\n",
    "print(\"(10, 20) array:-\", array_1)\n",
    "\n",
    "array_2 = array_1.reshape(20, 10)\n",
    "print(\"(20, 10):- \", array_2)\n",
    "\n",
    "array_3 = array_1.reshape(5, 40)\n",
    "print(\"Reshaped Array Shape (5, 40):-\", array_3)"
   ]
  },
  {
   "cell_type": "code",
   "execution_count": 21,
   "id": "bf5d6e5b-e0e6-478d-88cf-9c83f4cd822a",
   "metadata": {},
   "outputs": [
    {
     "name": "stdout",
     "output_type": "stream",
     "text": [
      "2D array :- [[68  3 72 37 34 85 41 27]\n",
      " [23 77 19 98 34 62 32 56]\n",
      " [94  1 30 66 51 66 51 41]\n",
      " [42 62 60 85 52 39 59 32]\n",
      " [43 27 15 76 17 54 92 74]\n",
      " [63 39 97  3 89 81 50 61]]\n",
      "Reshaped Array:-\n",
      " [[68  3 72 37 34 85 41 27 23 77 19 98]\n",
      " [34 62 32 56 94  1 30 66 51 66 51 41]\n",
      " [42 62 60 85 52 39 59 32 43 27 15 76]\n",
      " [17 54 92 74 63 39 97  3 89 81 50 61]]\n"
     ]
    }
   ],
   "source": [
    "# 27. Question: Generate a large 2D array and demonstrate the use of np. reshape () and unravel () to manipulate its shape for various linear algebra \n",
    "# operations. \n",
    "\n",
    "array_2d = np.random.randint(1, 100, size=(6, 8))\n",
    "print(\"2D array :-\", array_2d)\n",
    "\n",
    "reshaped_array_1 = array_2d.reshape(4, 12)\n",
    "print(\"Reshaped Array:-\\n\", reshaped_array_1)"
   ]
  },
  {
   "cell_type": "code",
   "execution_count": 25,
   "id": "49ee3fbb-3ca0-4140-80ed-cfe5cd890d2d",
   "metadata": {},
   "outputs": [
    {
     "name": "stdout",
     "output_type": "stream",
     "text": [
      " Matrix:- [[92 67  7 50  4 52]\n",
      " [ 9 96 78  6 24  6]\n",
      " [ 4 44 79 37 22 41]\n",
      " [27 57 61 37 97 60]\n",
      " [34 94 81 18 30 75]\n",
      " [ 8 12 28 89 22 23]]\n",
      "Upper Triangular :- [[92 67  7 50  4 52]\n",
      " [ 0 96 78  6 24  6]\n",
      " [ 0  0 79 37 22 41]\n",
      " [ 0  0  0 37 97 60]\n",
      " [ 0  0  0  0 30 75]\n",
      " [ 0  0  0  0  0 23]]\n",
      "\n",
      "Matrix after Setting Lower Triangular Part to Zero:\n",
      " [[92 67  7 50  4 52]\n",
      " [ 0 96 78  6 24  6]\n",
      " [ 0  0 79 37 22 41]\n",
      " [ 0  0  0 37 97 60]\n",
      " [ 0  0  0  0 30 75]\n",
      " [ 0  0  0  0  0 23]]\n",
      "\n",
      "Verification Result: True\n"
     ]
    }
   ],
   "source": [
    "# 28. Question: Given a 6x6 matrix, use advanced indexing and slicing to extract the upper triangular part of the matrix and set the lower triangular\n",
    "# part to zero. Verify the result.\n",
    "\n",
    "matrix = np.random.randint(1, 100, size=(6, 6))\n",
    "print(\" Matrix:-\", matrix)\n",
    "\n",
    "upper_triangular = np.triu(matrix)  \n",
    "print(\"Upper Triangular :-\", upper_triangular)\n",
    "\n",
    "lower_triangular_indices = np.tril_indices_from(matrix, k=-1)  \n",
    "matrix[lower_triangular_indices] = 0  \n",
    "print(\"\\nMatrix after Setting Lower Triangular Part to Zero:\\n\", matrix)\n",
    "\n",
    "verification = np.array_equal(matrix, upper_triangular)\n",
    "print(\"\\nVerification Result:\", verification)\n"
   ]
  }
 ],
 "metadata": {
  "kernelspec": {
   "display_name": "Python 3 (ipykernel)",
   "language": "python",
   "name": "python3"
  },
  "language_info": {
   "codemirror_mode": {
    "name": "ipython",
    "version": 3
   },
   "file_extension": ".py",
   "mimetype": "text/x-python",
   "name": "python",
   "nbconvert_exporter": "python",
   "pygments_lexer": "ipython3",
   "version": "3.12.7"
  }
 },
 "nbformat": 4,
 "nbformat_minor": 5
}
